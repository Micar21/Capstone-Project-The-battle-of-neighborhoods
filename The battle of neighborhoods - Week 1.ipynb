{
    "cells": [
        {
            "metadata": {
                "collapsed": true
            },
            "cell_type": "markdown",
            "source": "# Introduction: Business Problem"
        },
        {
            "metadata": {},
            "cell_type": "markdown",
            "source": "In this project we will try to identify how important is Hospitality (restaurants) in the economy of the two of the most important cities of Spain, Madrid and Barcelona.\n\nTo know the importance of Hospitality in each city, we need to determinate how many restaurants are based in each city. Once we have the total number of restaurants, we will define which are the top five kind of restaurant/food that predominate in both Madrid and Barcelona. \n\nFinally, we will try to find which neighborhood has more restaurants for each city and compare where they are located to determinate the distribution of the leisure in Madrid and Barcelona. \n\nFollowing these steps would help to understand which city had been more affected by the lockdown that the Spanish Goverment has imposed as an action to reduce the level of inflection due to COVID-19 that it is been produced in Barcelona and Madrid in the last year. "
        },
        {
            "metadata": {},
            "cell_type": "markdown",
            "source": "# Data"
        },
        {
            "metadata": {},
            "cell_type": "markdown",
            "source": "To solve our problem, we will use the following data:\n \n - total number of restaurants\n - classified restaurant by kind of food\n - located restaurant by neighborhoods\n\nWe need to find the above data for both Barcelona and Madrid. \n\nThe total number of restaurants will be us an idea of how important is Hospitality in the economy of the city. \nIf we can classify restaurants by the kind of food, it will give us some idees of how different are the customs of the citizens of each city.\nBy locatting the restaurant by neighborhood, it could help us to determinate where people have more chances to find a place to have a meal.\n\nAlso, we will need to use the next sources to extract the information required to solve this project:\n\n - Foursquere API --> number of restaurants\n - Google Maps API reverse geocoding --> location of the cities\n - Google Maps API geocoding --> location of the restaurants\n - Wikipedia --> neighborhood of the cities\n"
        },
        {
            "metadata": {},
            "cell_type": "code",
            "source": "",
            "execution_count": null,
            "outputs": []
        }
    ],
    "metadata": {
        "kernelspec": {
            "name": "python3",
            "display_name": "Python 3.7",
            "language": "python"
        },
        "language_info": {
            "name": "python",
            "version": "3.7.9",
            "mimetype": "text/x-python",
            "codemirror_mode": {
                "name": "ipython",
                "version": 3
            },
            "pygments_lexer": "ipython3",
            "nbconvert_exporter": "python",
            "file_extension": ".py"
        }
    },
    "nbformat": 4,
    "nbformat_minor": 1
}